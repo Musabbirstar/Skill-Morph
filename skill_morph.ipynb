{
  "nbformat": 4,
  "nbformat_minor": 0,
  "metadata": {
    "colab": {
      "provenance": [],
      "authorship_tag": "ABX9TyNMzRStt5F7ogsZ0gvU997S",
      "include_colab_link": true
    },
    "kernelspec": {
      "name": "python3",
      "display_name": "Python 3"
    },
    "language_info": {
      "name": "python"
    }
  },
  "cells": [
    {
      "cell_type": "markdown",
      "metadata": {
        "id": "view-in-github",
        "colab_type": "text"
      },
      "source": [
        "<a href=\"https://colab.research.google.com/github/Musabbirstar/Skill-Morph/blob/main/skill_morph.ipynb\" target=\"_parent\"><img src=\"https://colab.research.google.com/assets/colab-badge.svg\" alt=\"Open In Colab\"/></a>"
      ]
    },
    {
      "cell_type": "code",
      "execution_count": 1,
      "metadata": {
        "colab": {
          "base_uri": "https://localhost:8080/"
        },
        "id": "wSO76Df1Xtc4",
        "outputId": "0cc2825d-2ba7-4d0b-913b-4aa83dd68e6e"
      },
      "outputs": [
        {
          "output_type": "stream",
          "name": "stdout",
          "text": [
            "0p1 5p2 8p3 13p4 15p1 20p3 21p1 26p1 31p1 32\n",
            "Waiting times: [32, 8, 21, 15]\n",
            "Average waiting time: 19.0\n"
          ]
        }
      ],
      "source": [
        "\n",
        "process_dict = {\n",
        "    'pros': ['p1', 'p2', 'p3', 'p4'],\n",
        "    'burst_time': [21, 3, 6, 2]\n",
        "}\n",
        "\n",
        "completion_time = [0] * len(process_dict['pros'])\n",
        "waiting_time = 0\n",
        "quantum = 5\n",
        "time = 0\n",
        "print(time, end='')\n",
        "\n",
        "while True:\n",
        "    if sum(process_dict['burst_time']) == 0:\n",
        "        break\n",
        "\n",
        "    count = -1\n",
        "    for i in process_dict['burst_time']:\n",
        "        count += 1\n",
        "\n",
        "        if process_dict['burst_time'][count] == 0:\n",
        "            continue\n",
        "\n",
        "        if process_dict['burst_time'][count] < quantum:\n",
        "            time += process_dict['burst_time'][count]\n",
        "            print(f'{process_dict[\"pros\"][count]} {time}', end='')\n",
        "            process_dict['burst_time'][count] = 0\n",
        "            completion_time[count] = time   # when process complete. (process total completion time)\n",
        "\n",
        "        else:\n",
        "            time += quantum\n",
        "            print(f'{process_dict[\"pros\"][count]} {time}', end='')\n",
        "            process_dict['burst_time'][count] -= quantum\n",
        "\n",
        "\n",
        "orginal_burst_time = process_dict['burst_time']\n",
        "\n",
        "# Waiting time = completion time - burst time\n",
        "waiting_times = []\n",
        "for i in range(len(orginal_burst_time)):\n",
        "    wt = completion_time[i] - orginal_burst_time[i]\n",
        "    waiting_times.append(wt)\n",
        "\n",
        "avg_waiting_time = sum(waiting_times) / len(waiting_times)\n",
        "\n",
        "print(\"\\nWaiting times:\", waiting_times)\n",
        "print(\"Average waiting time:\", avg_waiting_time)"
      ]
    }
  ]
}