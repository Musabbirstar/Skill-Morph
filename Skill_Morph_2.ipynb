{
  "nbformat": 4,
  "nbformat_minor": 0,
  "metadata": {
    "colab": {
      "provenance": [],
      "authorship_tag": "ABX9TyNxkMNDE+q7sd5jPwLUAD+V",
      "include_colab_link": true
    },
    "kernelspec": {
      "name": "python3",
      "display_name": "Python 3"
    },
    "language_info": {
      "name": "python"
    }
  },
  "cells": [
    {
      "cell_type": "markdown",
      "metadata": {
        "id": "view-in-github",
        "colab_type": "text"
      },
      "source": [
        "<a href=\"https://colab.research.google.com/github/Musabbirstar/Skill-Morph/blob/main/Skill_Morph_2.ipynb\" target=\"_parent\"><img src=\"https://colab.research.google.com/assets/colab-badge.svg\" alt=\"Open In Colab\"/></a>"
      ]
    },
    {
      "cell_type": "markdown",
      "source": [
        "# **2.1 Create variables for your name, age, and favorite color, then print them with descriptive labels.**"
      ],
      "metadata": {
        "id": "CZ-ksMuAXF1l"
      }
    },
    {
      "cell_type": "code",
      "execution_count": 1,
      "metadata": {
        "colab": {
          "base_uri": "https://localhost:8080/"
        },
        "id": "ZsKnTWb7XAyY",
        "outputId": "e706aa2f-2fee-4653-e785-4099f4b62e6e"
      },
      "outputs": [
        {
          "output_type": "stream",
          "name": "stdout",
          "text": [
            "Name:  Abdullah Al Musabbir\n",
            "Age:  24\n",
            "Favourite Color:  Black\n"
          ]
        }
      ],
      "source": [
        "name=\"Abdullah Al Musabbir\"\n",
        "age=24\n",
        "favorite_color=\"Black\"\n",
        "\n",
        "print(\"Name: \",name)\n",
        "print(\"Age: \", age)\n",
        "print(\"Favourite Color: \", favorite_color)"
      ]
    },
    {
      "cell_type": "markdown",
      "source": [
        "# **2.2.Create one variable of each type and use the type() function to verify its type.**"
      ],
      "metadata": {
        "id": "CCYnAjgWXflj"
      }
    },
    {
      "cell_type": "code",
      "source": [
        "number=13\n",
        "Float=13.7\n",
        "string=\"Dhaka\"\n",
        "is_boolean=True\n",
        "value=None\n",
        "\n",
        "print(type(number))\n",
        "print(type(Float))\n",
        "print(type(string))\n",
        "print(type(is_boolean))\n",
        "print(type(value))"
      ],
      "metadata": {
        "colab": {
          "base_uri": "https://localhost:8080/"
        },
        "id": "jK9yuOcRXjQL",
        "outputId": "1c816b9e-854b-450e-dead-cac5a3be4dd3"
      },
      "execution_count": 2,
      "outputs": [
        {
          "output_type": "stream",
          "name": "stdout",
          "text": [
            "<class 'int'>\n",
            "<class 'float'>\n",
            "<class 'str'>\n",
            "<class 'bool'>\n",
            "<class 'NoneType'>\n"
          ]
        }
      ]
    },
    {
      "cell_type": "markdown",
      "source": [
        "# **2.3.Calculate the area and perimeter of a rectangle with length 7 and width 5.**"
      ],
      "metadata": {
        "id": "ydH1zVjlX4Zk"
      }
    },
    {
      "cell_type": "code",
      "source": [
        "length=float(input(\"Please Eneter the value of length: \"))\n",
        "width=float(input(\"Please Eneter the value of width: \"))\n",
        "print(\"The Length of rectangle is: \",length)\n",
        "print(\"The Width of rectangle is: \",width)\n",
        "\n",
        "perimeter=2*length+2*width\n",
        "area=length*width\n",
        "\n",
        "print(\"The perimeter of Rectange is: \",perimeter)\n",
        "print(\"The Area of Rectange is: \",area)"
      ],
      "metadata": {
        "colab": {
          "base_uri": "https://localhost:8080/"
        },
        "id": "KdT9IKxcX7Mb",
        "outputId": "8c3b743b-7f25-47c9-c37b-bcba3c9e2f9d"
      },
      "execution_count": 4,
      "outputs": [
        {
          "output_type": "stream",
          "name": "stdout",
          "text": [
            "Please Eneter the value of length: 3\n",
            "Please Eneter the value of width: 4\n",
            "The Length of rectangle is:  3.0\n",
            "The Width of rectangle is:  4.0\n",
            "The perimeter of Rectange is:  14.0\n",
            "The Area of Rectange is:  12.0\n"
          ]
        }
      ]
    },
    {
      "cell_type": "markdown",
      "source": [
        "# **2.4.Create a list of 5 Bangladeshi foods, then access the first and last elements.**"
      ],
      "metadata": {
        "id": "AM7qgaM5Y0EJ"
      }
    },
    {
      "cell_type": "code",
      "source": [
        "foods=[\"rice\",\"Mung lentils\",\"fish\",\"beef\",\"mutton\"]\n",
        "\n",
        "print(foods[0])\n",
        "print(foods[-1])"
      ],
      "metadata": {
        "colab": {
          "base_uri": "https://localhost:8080/"
        },
        "id": "VUan5BcHY1cI",
        "outputId": "c6a8c541-ed69-4625-f23f-eff0ea4a636f"
      },
      "execution_count": 5,
      "outputs": [
        {
          "output_type": "stream",
          "name": "stdout",
          "text": [
            "rice\n",
            "mutton\n"
          ]
        }
      ]
    },
    {
      "cell_type": "markdown",
      "source": [
        "# **2.5 Create a list of 5 numbers, add a new number, remove one, and then sort the list.**"
      ],
      "metadata": {
        "id": "Bl4slFAAZjX8"
      }
    },
    {
      "cell_type": "code",
      "source": [
        "num=[13,7,33,49,17]\n",
        "\n",
        "num.append(57)\n",
        "print(\"List of after adding a number(57): \",num)\n",
        "\n",
        "num.pop()\n",
        "print(\"List of after remove a number(57): \",num)\n",
        "\n",
        "num.sort()\n",
        "print(\"List in ascending order: \",num)\n",
        "\n",
        "num.reverse()\n",
        "print(\"List in Descending order: \",num)"
      ],
      "metadata": {
        "colab": {
          "base_uri": "https://localhost:8080/"
        },
        "id": "rufg-HDCZoDM",
        "outputId": "224e72ad-c010-42b8-8777-9043dd7fca0e"
      },
      "execution_count": 20,
      "outputs": [
        {
          "output_type": "stream",
          "name": "stdout",
          "text": [
            "List of after adding a number(57):  [13, 7, 33, 49, 17, 57]\n",
            "List of after remove a number(57):  [13, 7, 33, 49, 17]\n",
            "List in ascending order:  [7, 13, 17, 33, 49]\n",
            "List in Descending order:  [49, 33, 17, 13, 7]\n"
          ]
        }
      ]
    },
    {
      "cell_type": "markdown",
      "source": [
        "# **2.6 Create a dictionary about yourself with at least 4 key-value pairs**"
      ],
      "metadata": {
        "id": "y9yyTZNKbCBh"
      }
    },
    {
      "cell_type": "code",
      "source": [
        "me={\"name\": \"Abdullah Al Musabbir\",\n",
        "         \"age\": 24,\n",
        "         \"university\": \"University of Asia Pacific\",\n",
        "         \"phone\": \"01944145084\",}\n",
        "\n",
        "me[\"name\"]"
      ],
      "metadata": {
        "colab": {
          "base_uri": "https://localhost:8080/",
          "height": 36
        },
        "id": "CqIXMg-gbFxj",
        "outputId": "60836174-ad42-4491-c0bf-f4b3f8c786b1"
      },
      "execution_count": 21,
      "outputs": [
        {
          "output_type": "execute_result",
          "data": {
            "text/plain": [
              "'Abdullah Al Musabbir'"
            ],
            "application/vnd.google.colaboratory.intrinsic+json": {
              "type": "string"
            }
          },
          "metadata": {},
          "execution_count": 21
        }
      ]
    },
    {
      "cell_type": "markdown",
      "source": [
        "# **2.7 Create a tuple with the latitude and longitude of a famous place in Bangladesh.**"
      ],
      "metadata": {
        "id": "JEvTczL3b6f5"
      }
    },
    {
      "cell_type": "code",
      "source": [
        "bd=(\"latitude 20°34' to 26°38' North\", \"longitude 88°01' to 92°41' East\")\n",
        "print(type(bd))"
      ],
      "metadata": {
        "colab": {
          "base_uri": "https://localhost:8080/"
        },
        "id": "PUv1zSUyb-Fz",
        "outputId": "3f1756a9-cdf7-4baa-db2a-f182947cd8a6"
      },
      "execution_count": 22,
      "outputs": [
        {
          "output_type": "stream",
          "name": "stdout",
          "text": [
            "<class 'tuple'>\n"
          ]
        }
      ]
    },
    {
      "cell_type": "markdown",
      "source": [
        "# **2.8 Create two sets of colors and find their union and intersection**"
      ],
      "metadata": {
        "id": "bLIuEssncbYC"
      }
    },
    {
      "cell_type": "code",
      "source": [
        "gang1 = {\"jake\",\"paul\",\"richard\"}\n",
        "gang2 = {\"jake\",\"julia\",\"vanessa\"}\n",
        "\n",
        "union = gang1 | gang2\n",
        "intersection  = gang1 & gang2\n",
        "print(union)\n",
        "print(intersection )"
      ],
      "metadata": {
        "colab": {
          "base_uri": "https://localhost:8080/"
        },
        "id": "Htmc8V9vcfkR",
        "outputId": "3f520b5b-233d-43ac-f66a-dd5de0aa3ad7"
      },
      "execution_count": 25,
      "outputs": [
        {
          "output_type": "stream",
          "name": "stdout",
          "text": [
            "{'julia', 'vanessa', 'paul', 'richard', 'jake'}\n",
            "{'jake'}\n"
          ]
        }
      ]
    },
    {
      "cell_type": "markdown",
      "source": [
        "# **2.9 Write a program that checks if a number is positive, negative, or zero.**"
      ],
      "metadata": {
        "id": "9y5kogYueQMZ"
      }
    },
    {
      "cell_type": "code",
      "source": [
        "num = int(input(\"Please Enter the number: \"))\n",
        "\n",
        "if num>0:\n",
        "  number=\"Positive\"\n",
        "elif num<0:\n",
        "  number=\"Negative\"\n",
        "elif num==0:\n",
        "  number=\"Zero\"\n",
        "else:\n",
        "  print(\"Oops! You press Wrong key\")\n",
        "print(f\"The Number is {number}\")"
      ],
      "metadata": {
        "colab": {
          "base_uri": "https://localhost:8080/"
        },
        "id": "Ujx9Ymq1ecoq",
        "outputId": "1fc5e9d3-030f-42d0-f817-07e3dace4582"
      },
      "execution_count": 29,
      "outputs": [
        {
          "output_type": "stream",
          "name": "stdout",
          "text": [
            "Please Enter the number: 5\n",
            "The Number is Positive\n"
          ]
        }
      ]
    },
    {
      "cell_type": "markdown",
      "source": [
        "# **2.10 Write a program that checks eligibility for a discount (student AND under 25, OR senior over 60).**"
      ],
      "metadata": {
        "id": "2oKWszAXfO1y"
      }
    },
    {
      "cell_type": "code",
      "source": [
        "student = int(input(\"i. Student press 1\\nii.Not student press 2\\n\"))\n",
        "if student == 1:\n",
        "    age = int(input(\"Please Enter your age: \"))\n",
        "    if age > 25 and age < 60:\n",
        "        print(\"Congratulations! You are eligible for the discount.\")\n",
        "    else:\n",
        "        print(\"Oops! You are not eligible for the discount.\")\n",
        "else:\n",
        "    print(\"Oops! You are not eligible for the discount.\")"
      ],
      "metadata": {
        "colab": {
          "base_uri": "https://localhost:8080/"
        },
        "id": "aoU07ZjOfQXK",
        "outputId": "f0a25b1a-f32d-4402-e2ca-82e76c660221"
      },
      "execution_count": 46,
      "outputs": [
        {
          "output_type": "stream",
          "name": "stdout",
          "text": [
            "i. Student press 1\n",
            "ii.Not student press 2\n",
            "1\n",
            "Please Enter your age: 59\n",
            "Congratulations! You are eligible for the discount.\n"
          ]
        }
      ]
    },
    {
      "cell_type": "markdown",
      "source": [
        "# **2.11 Write a program that prints the first 10 even numbers using a for or while loop.**"
      ],
      "metadata": {
        "id": "RUCG_bWZjgxh"
      }
    },
    {
      "cell_type": "code",
      "source": [
        "count = 2\n",
        "while count <= 20:\n",
        "    print(count)\n",
        "    count += 2"
      ],
      "metadata": {
        "colab": {
          "base_uri": "https://localhost:8080/"
        },
        "id": "KWbWHckrjpQx",
        "outputId": "84160953-7cc0-4f86-d739-970ebd0706f6"
      },
      "execution_count": 52,
      "outputs": [
        {
          "output_type": "stream",
          "name": "stdout",
          "text": [
            "2\n",
            "4\n",
            "6\n",
            "8\n",
            "10\n",
            "12\n",
            "14\n",
            "16\n",
            "18\n",
            "20\n"
          ]
        }
      ]
    },
    {
      "cell_type": "markdown",
      "source": [
        "# **2.12 Write a program that prints a simple number pyramid pattern using nested loops.**"
      ],
      "metadata": {
        "id": "RWmP9O0ak6ox"
      }
    },
    {
      "cell_type": "code",
      "source": [
        "rows = 5\n",
        "for i in range(1, rows + 1):\n",
        "    for space in range(rows - i):\n",
        "        print(\" \", end=\"\")\n",
        "    for num in range(1, i + 1):\n",
        "        print(num, end=\" \")\n",
        "\n",
        "    print()"
      ],
      "metadata": {
        "colab": {
          "base_uri": "https://localhost:8080/"
        },
        "id": "N6Z9B2zEk9Vq",
        "outputId": "762a2feb-9682-41c5-e752-c470ecf567ad"
      },
      "execution_count": 53,
      "outputs": [
        {
          "output_type": "stream",
          "name": "stdout",
          "text": [
            "    1 \n",
            "   1 2 \n",
            "  1 2 3 \n",
            " 1 2 3 4 \n",
            "1 2 3 4 5 \n"
          ]
        }
      ]
    },
    {
      "cell_type": "markdown",
      "source": [
        "# **2.13 Create a function that converts temperature from Celsius to Fahrenheit using the formula: F = (C × 9/5) + 32**"
      ],
      "metadata": {
        "id": "diCCgITCltRy"
      }
    },
    {
      "cell_type": "code",
      "source": [
        "c=float(input(\"Enter the value of Celcius: \"))\n",
        "f=(c*(9/5)+32)\n",
        "print(\"Fahrenheit\",f)"
      ],
      "metadata": {
        "colab": {
          "base_uri": "https://localhost:8080/"
        },
        "id": "m_qSo0g2lxXS",
        "outputId": "1c9cb92d-00ed-4ef5-f4c2-6c02ffb5513c"
      },
      "execution_count": 56,
      "outputs": [
        {
          "output_type": "stream",
          "name": "stdout",
          "text": [
            "Please Enter the value of Celcius: 33\n",
            "Fahrenheit 91.4\n"
          ]
        }
      ]
    },
    {
      "cell_type": "markdown",
      "source": [
        "# **2.14 Create a function with default parameters that calculates the area of a rectangle.**"
      ],
      "metadata": {
        "id": "Zw9v3MI0mBwZ"
      }
    },
    {
      "cell_type": "code",
      "source": [
        "def rectangle_area(length=1, width=1):\n",
        "    area = length * width\n",
        "    return area\n",
        "\n",
        "print(rectangle_area())\n",
        "print(rectangle_area(5))\n",
        "print(rectangle_area(5, 3))"
      ],
      "metadata": {
        "colab": {
          "base_uri": "https://localhost:8080/"
        },
        "id": "jMSRurf_mEZo",
        "outputId": "7e0664fd-b668-4ed7-d618-a6ec6a308940"
      },
      "execution_count": 57,
      "outputs": [
        {
          "output_type": "stream",
          "name": "stdout",
          "text": [
            "1\n",
            "5\n",
            "15\n"
          ]
        }
      ]
    }
  ]
}